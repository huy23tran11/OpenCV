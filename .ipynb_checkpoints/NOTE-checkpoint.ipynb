{
 "cells": [
  {
   "cell_type": "code",
   "execution_count": 8,
   "metadata": {},
   "outputs": [],
   "source": [
    "import cv2\n",
    "import numpy as np"
   ]
  },
  {
   "cell_type": "code",
   "execution_count": 3,
   "metadata": {},
   "outputs": [],
   "source": [
    "#to read img \n",
    "img = cv2.imread('./img/CV.jpg')\n",
    "cv2.imshow('sample',img )\n",
    "cv2.waitKey()\n",
    "cv2.destroyAllWindows()"
   ]
  },
  {
   "cell_type": "code",
   "execution_count": 9,
   "metadata": {},
   "outputs": [
    {
     "data": {
      "text/plain": [
       "array([192, 189, 175], dtype=uint8)"
      ]
     },
     "execution_count": 9,
     "metadata": {},
     "output_type": "execute_result"
    }
   ],
   "source": [
    "# de thong tin RBG lay 1 pixel cua anh \n",
    "\n",
    "img[0,0]"
   ]
  },
  {
   "cell_type": "code",
   "execution_count": 12,
   "metadata": {},
   "outputs": [
    {
     "data": {
      "text/plain": [
       "(406, 366, 3)"
      ]
     },
     "execution_count": 12,
     "metadata": {},
     "output_type": "execute_result"
    }
   ],
   "source": [
    "# de coi do phan giai anh \n",
    "\n",
    "img.shape"
   ]
  },
  {
   "cell_type": "code",
   "execution_count": 26,
   "metadata": {},
   "outputs": [],
   "source": [
    "# chuyen anh tu RBG sang HSV\n",
    "\n",
    "hsv_img = cv2.cvtColor(img,cv2.COLOR_BGR2HSV)\n",
    "cv2.imshow('huy',hsv_img)\n",
    "cv2.waitKey()\n",
    "cv2.destroyAllWindows()\n",
    "\n",
    "cv2.imshow('HSV image', hsv_img)\n",
    "cv2.imshow('Hue channel', hsv_img[:, :, 0])\n",
    "cv2.imshow('Saturation channel', hsv_img[:, :, 1])\n",
    "cv2.imshow('Value channel', hsv_img[:, :, 2])\n",
    "cv2.waitKey()\n",
    "cv2.destroyAllWindows()"
   ]
  },
  {
   "cell_type": "code",
   "execution_count": 6,
   "metadata": {},
   "outputs": [
    {
     "data": {
      "text/plain": [
       "(406, 366, 3)"
      ]
     },
     "execution_count": 6,
     "metadata": {},
     "output_type": "execute_result"
    }
   ],
   "source": [
    "# chia anh ra theo tung lop R,B,G\n",
    "B, G, R = cv2.split(img)\n",
    "cv2.imshow('red',R)\n",
    "cv2.imshow('green',G)\n",
    "cv2.imshow('blue',B)\n",
    "cv2.waitKey(0)\n",
    "cv2.destroyAllWindows()\n",
    "# take time nen dung numpy indexing \n",
    "B = img [:,:,0]\n",
    "G = img [:,:,1]\n",
    "R = img [:,:,2]\n"
   ]
  },
  {
   "cell_type": "code",
   "execution_count": 24,
   "metadata": {},
   "outputs": [],
   "source": [
    "# gop anh lai voi nhau\n",
    "merge_img = cv2.merge([R,G,B])\n",
    "cv2.imshow('megre',merge_img)\n",
    "cv2.waitKey(0)\n",
    "cv2.destroyAllWindows()"
   ]
  },
  {
   "cell_type": "code",
   "execution_count": 9,
   "metadata": {},
   "outputs": [],
   "source": [
    "# affine tranformation \n",
    "# shifted img \n",
    "img = cv2.imread('./img/CV.jpg')\n",
    "t_matrix = np.float32(([1,0,100],[0,1,100]))\n",
    "# tranlational matrix de chuyen anh \n",
    "shifted_img = cv2.warpAffine(img,t_matrix,(img.shape[0],img.shape[1]))\n",
    "cv2.imshow('shifted ', shifted_img)\n",
    "cv2.waitKey()\n",
    "cv2.destroyAllWindows()"
   ]
  },
  {
   "cell_type": "code",
   "execution_count": 27,
   "metadata": {},
   "outputs": [],
   "source": [
    "# affine tranformation \n",
    "# rotaional img \n",
    "img = cv2.imread('./img/CV.jpg')\n",
    "h,w = img.shape[:2]\n",
    "t_matrix = cv2.getRotationMatrix2D((w/2,h/2),90,1)\n",
    "rotated_img = cv2.warpAffine(img, t_matrix, (w,h)) \n",
    "cv2.imshow('rotated img ',rotated_img )\n",
    "cv2.waitKey()\n",
    "cv2.destroyAllWindows()\n"
   ]
  },
  {
   "cell_type": "code",
   "execution_count": 28,
   "metadata": {},
   "outputs": [],
   "source": [
    "# de fit anh ko co vien den dung ham transpose()\n",
    "r_img = cv2.transpose(rotated_img)\n",
    "cv2.imshow('rotated img ',r_img )\n",
    "cv2.waitKey()\n",
    "cv2.destroyAllWindows()"
   ]
  },
  {
   "cell_type": "code",
   "execution_count": null,
   "metadata": {},
   "outputs": [],
   "source": [
    "# img segmentation \n",
    "#co cac ham chinh sau day\n",
    "img = cv2.imread('./images/bunchofshapes.jpg')\n",
    "ori_img = img.copy()\n",
    "\n",
    "#dau tien chuyen anh ve gray sacle da \n",
    "gray = cv2.cvtColor(img,cv2.COLOR_BGR2GRAY)\n",
    "#loc nhieu\n",
    "blurr = cv2.GaussianBlur(img,(7,7),0)\n",
    "#edged detection\n",
    "edged = cv2.Canny(blurr,10,70)\n",
    "#ham tim contour tra ve list cua list \n",
    "_,contours,h = cv2.findContours(edged,cv2.RETR_EXTERNAL,cv2.CHAIN_APPROX_SIMPLE)\n",
    "#ve contours ve de len anh \n",
    "cv2.drawContours(img,contours,-1,(0,255,0),3)\n",
    "\n",
    "cv2.imshow('hi',img)\n",
    "cv2.waitKey()\n",
    "cv2.destroyAllWindows()\n",
    "\n",
    "\n",
    "# ngoai ra con co cac ham\n",
    "cv2.contourArea()# tinh dien tich contours \n",
    "#dung ham sorted de xap xep cac contours theo cac loai khac nhau tuy minh\n",
    "#dien tich :\n",
    "contours = sorted(contours, key = cv2.contourArea,reverse = True)\n",
    "# ham tim moments\n",
    "m = cv2.moments(c)\n",
    "# tinh center of masss\n",
    "    cx = int(m['m10']/m['m00'])\n",
    "    cy = int(m['m01']/m['m00'])\n",
    "# ham viet chu len hinh (viet len center of mass )\n",
    "\n",
    "    cv2.putText(ori_img,str(i),(cx,cy),cv2.FONT_HERSHEY_SIMPLEX,1,(0,0,255),3)\n",
    "    \n",
    "# crop contours \n",
    "(x, y, w, h) = cv2.boundingRect(c) \n",
    "\n",
    "cropped = img[y:y+h,x:x+w]\n",
    "# la cat dc 1 cai contours ra \n",
    "\n",
    "\n"
   ]
  }
 ],
 "metadata": {
  "kernelspec": {
   "display_name": "Python 3",
   "language": "python",
   "name": "python3"
  },
  "language_info": {
   "codemirror_mode": {
    "name": "ipython",
    "version": 3
   },
   "file_extension": ".py",
   "mimetype": "text/x-python",
   "name": "python",
   "nbconvert_exporter": "python",
   "pygments_lexer": "ipython3",
   "version": "3.6.5"
  }
 },
 "nbformat": 4,
 "nbformat_minor": 2
}
