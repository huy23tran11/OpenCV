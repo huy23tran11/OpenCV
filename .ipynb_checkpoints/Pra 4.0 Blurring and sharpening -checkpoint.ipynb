{
 "cells": [
  {
   "cell_type": "code",
   "execution_count": 1,
   "metadata": {},
   "outputs": [],
   "source": [
    "import cv2\n",
    "import numpy as np"
   ]
  },
  {
   "cell_type": "code",
   "execution_count": 73,
   "metadata": {},
   "outputs": [],
   "source": [
    "img = cv2.imread('./img/car.jpeg')\n",
    "cv2.imshow('car',img)\n",
    "cv2.waitKey()\n",
    "cv2.destroyAllWindows()"
   ]
  },
  {
   "cell_type": "code",
   "execution_count": 74,
   "metadata": {},
   "outputs": [
    {
     "data": {
      "text/plain": [
       "(799, 1199, 3)"
      ]
     },
     "execution_count": 74,
     "metadata": {},
     "output_type": "execute_result"
    }
   ],
   "source": [
    "img.shape"
   ]
  },
  {
   "cell_type": "code",
   "execution_count": 75,
   "metadata": {},
   "outputs": [],
   "source": [
    "# Blurring \n",
    "\n",
    "# creating a kernel 3x3 \n",
    "kernel_3x3 = np.ones((7,7),np.float64)/49\n",
    "\n",
    "# bulrring \n",
    "blurred_img = cv2.filter2D(img,-1,kernel_3x3)\n",
    "\n",
    "cv2.imshow('car',img)\n",
    "\n",
    "cv2.imshow('blurred',blurred_img)\n",
    "cv2.waitKey()\n",
    "cv2.destroyAllWindows()"
   ]
  },
  {
   "cell_type": "code",
   "execution_count": 59,
   "metadata": {},
   "outputs": [],
   "source": [
    "# Averaing img\n",
    "blur = cv2.blur(img, (9,9))\n",
    "cv2.imshow('Averaing blurred',blur)\n",
    "cv2.waitKey()\n",
    "cv2.destroyAllWindows()\n",
    "\n",
    "# Bilateral is very effective in noise removal while keeping edges sharp\n",
    "\n",
    "bilateral = cv2.bilateralFilter(img, 10, 100, 100)\n",
    "cv2.imshow('Bilateral Blurring', bilateral)\n",
    "cv2.waitKey(0)\n",
    "cv2.destroyAllWindows()"
   ]
  },
  {
   "cell_type": "code",
   "execution_count": 72,
   "metadata": {},
   "outputs": [],
   "source": [
    "# sharpening \n",
    "kernel = np.ones((3,3),np.int)*-1\n",
    "kernel [1][1]= 9\n",
    "\n",
    "sharpened_img = cv2.filter2D(blurred_img,-1,kernel)\n",
    "cv2.imshow('sharpening',sharpened_img)\n",
    "cv2.waitKey()\n",
    "cv2.destroyAllWindows()"
   ]
  },
  {
   "cell_type": "code",
   "execution_count": null,
   "metadata": {},
   "outputs": [],
   "source": []
  }
 ],
 "metadata": {
  "kernelspec": {
   "display_name": "Python 3",
   "language": "python",
   "name": "python3"
  },
  "language_info": {
   "codemirror_mode": {
    "name": "ipython",
    "version": 3
   },
   "file_extension": ".py",
   "mimetype": "text/x-python",
   "name": "python",
   "nbconvert_exporter": "python",
   "pygments_lexer": "ipython3",
   "version": "3.6.5"
  }
 },
 "nbformat": 4,
 "nbformat_minor": 2
}
