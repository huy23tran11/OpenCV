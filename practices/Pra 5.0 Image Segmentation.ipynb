{
 "cells": [
  {
   "cell_type": "code",
   "execution_count": null,
   "metadata": {},
   "outputs": [],
   "source": [
    "# contours\n",
    "import cv2 \n",
    "import numpy as np\n"
   ]
  },
  {
   "cell_type": "code",
   "execution_count": null,
   "metadata": {},
   "outputs": [],
   "source": [
    "import cv2\n",
    "import numpy as np\n",
    "\n",
    "\n",
    "img = cv2.imread('./img/shapes_and_colors.jpg')\n",
    "gray = cv2.cvtColor(img,cv2.COLOR_BGR2GRAY)\n",
    "#blurr = cv2.GaussianBlur(gray,(33,33),0)\n",
    "blurr = cv2.GaussianBlur(gray,(7,7),0)\n",
    "\n",
    "edged = cv2.Canny(blurr,10,70)\n",
    "\n",
    "_,contours, hierarchy = cv2.findContours(edged,cv2.RETR_EXTERNAL,cv2.CHAIN_APPROX_NONE)\n",
    "\n",
    "cv2.drawContours(img,contours,-1,(0,255,0),3)\n",
    "\n",
    "cv2.imshow('hi',img)\n",
    "cv2.waitKey()\n",
    "cv2.destroyAllWindows()\n",
    "\n",
    "len(contours)"
   ]
  },
  {
   "cell_type": "code",
   "execution_count": null,
   "metadata": {},
   "outputs": [],
   "source": [
    "# Sorting Contours"
   ]
  },
  {
   "cell_type": "code",
   "execution_count": null,
   "metadata": {},
   "outputs": [],
   "source": [
    "#img = cv2.imread('./images/bunchofshapes.jpg')\n",
    "img = cv2.imread('./img/shapes_and_colors.jpg')\n",
    "ori_img = img.copy()\n",
    "gray = cv2.cvtColor(img,cv2.COLOR_BGR2GRAY)\n",
    "blurr = cv2.GaussianBlur(img,(7,7),0)\n",
    "\n",
    "edged = cv2.Canny(blurr,10,70)\n",
    "\n",
    "_,contours,h = cv2.findContours(edged,cv2.RETR_EXTERNAL,cv2.CHAIN_APPROX_SIMPLE)\n",
    "\n",
    "cv2.drawContours(img,contours,-1,(0,255,0),3)\n",
    "cv2.imshow('contours', img)\n",
    "\n",
    "contours = sorted(contours, key = cv2.contourArea,reverse = True)\n",
    "for c in contours :\n",
    "    cv2.drawContours(ori_img,[c],-1,(0,255,0),3)\n",
    "    cv2.waitKey(0)\n",
    "    cv2.imshow('sorted',ori_img)\n",
    "\n",
    "cv2.waitKey()\n",
    "cv2.destroyAllWindows()"
   ]
  },
  {
   "cell_type": "code",
   "execution_count": null,
   "metadata": {},
   "outputs": [],
   "source": [
    "sorted(contours, key = cv2.contourArea,reverse = False)"
   ]
  },
  {
   "cell_type": "code",
   "execution_count": null,
   "metadata": {},
   "outputs": [],
   "source": [
    "lst = []\n",
    "contours = sorted(contours, key = cv2.contourArea,reverse = True)\n",
    "for cnt in contours :\n",
    "    lst.append(cv2.contourArea(cnt))\n",
    "    "
   ]
  },
  {
   "cell_type": "code",
   "execution_count": null,
   "metadata": {},
   "outputs": [],
   "source": [
    "# put text by X axis \n",
    "\n",
    "\n",
    "img = cv2.imread('./images/bunchofshapes.jpg')\n",
    "ori_img = img.copy()\n",
    "gray = cv2.cvtColor(img,cv2.COLOR_BGR2GRAY)\n",
    "blurr = cv2.GaussianBlur(img,(7,7),0)\n",
    "\n",
    "edged = cv2.Canny(blurr,10,70)\n",
    "\n",
    "_,contours,h = cv2.findContours(edged,cv2.RETR_EXTERNAL,cv2.CHAIN_APPROX_SIMPLE)\n",
    "\n",
    "\n",
    "for i, c in enumerate(contours) :\n",
    "    m = cv2.moments(c)\n",
    "    \n",
    "    cx = int(m['m10']/m['m00'])\n",
    "    cy = int(m['m01']/m['m00'])\n",
    "    \n",
    "    cv2.putText(ori_img,str(i),(cx,cy),cv2.FONT_HERSHEY_SIMPLEX,1,(0,0,255),3)\n",
    "    \n",
    "    cv2.imshow('text', ori_img )\n",
    "    cv2.waitKey(0)\n",
    "    \n",
    "\n",
    "for i,c in enumerate(contours) :\n",
    "    (x, y, w, h) = cv2.boundingRect(c)  \n",
    "    \n",
    "    cropped = img[y:y+h,x:x+w]\n",
    "    \n",
    "    cv2.imshow('cropped_'+ str(i),cropped )\n",
    "    cv2.waitKey()\n",
    "    \n",
    "cv2.destroyAllWindows()"
   ]
  },
  {
   "cell_type": "code",
   "execution_count": null,
   "metadata": {},
   "outputs": [],
   "source": [
    "# sort \n",
    "F\n",
    "import cv2\n",
    "import numpy as np\n",
    "\n",
    "cap = cv2.VideoCapture(0)\n",
    "\n",
    "while True:\n",
    "    _, frame = cap.read()\n",
    "    ori = frame.copy()\n",
    "    gray = cv2.cvtColor(ori,cv2.COLOR_BGR2GRAY)\n",
    "    blurr = cv2.GaussianBlur(gray,(7,7),0)\n",
    "    edged = cv2.Canny(blurr, 10,70)\n",
    "    _, contours, h = cv2.findContours(edged, cv2.RETR_EXTERNAL,cv2.CHAIN_APPROX_NONE)\n",
    "    \n",
    "    \n",
    "    cv2.drawContours(frame,contours,-1,(0,255,0),3)\n",
    "    \n",
    "    cv2.imshow(\"contours\",frame)\n",
    "    \n",
    "    if cv2.waitKey(1) == 13:\n",
    "        break\n",
    "        \n",
    "cap.release()\n",
    "cv2.destroyAllWindows()"
   ]
  },
  {
   "cell_type": "code",
   "execution_count": null,
   "metadata": {},
   "outputs": [],
   "source": [
    "#Approximating Contours"
   ]
  },
  {
   "cell_type": "code",
   "execution_count": null,
   "metadata": {},
   "outputs": [],
   "source": [
    "import cv2 \n",
    "import numpy as np \n",
    "\n",
    "img = cv2.imread('./img/paint.jpg')\n",
    "ori = img.copy()\n",
    "ori_1 = img.copy()\n",
    "img = cv2.cvtColor(img,cv2.COLOR_BGR2GRAY)\n",
    "\n",
    "_,thresh = cv2.threshold(img,127,255,cv2.THRESH_BINARY_INV)\n",
    "_,contours,h =cv2.findContours(thresh,cv2.RETR_EXTERNAL,cv2.CHAIN_APPROX_NONE)\n",
    "cv2.drawContours(ori, contours, 0,(0,255,0),3)\n",
    "\n",
    "cv2.imshow('df',ori)\n",
    "cv2.waitKey()\n",
    "\n",
    "(x,y,w,h) = cv2.boundingRect(contours[0])\n",
    "\n",
    "\n",
    "rec = cv2.rectangle(ori_1, (x,y) ,(x+w,y+h),(0,0,255),2)\n",
    "\n",
    "cv2.imshow('rec',rec)\n",
    "cv2.waitKey()\n",
    "\n",
    "accuracy = 0.03 * cv2.arcLength(contours[0], True)\n",
    "approx = cv2.approxPolyDP(contours[0], accuracy, True)\n",
    "cv2.drawContours(ori_1, [approx], 0, (0, 255, 0), 2)\n",
    "cv2.imshow('Approx Poly DP', ori_1)\n",
    "cv2.waitKey()\n",
    "\n",
    "cv2.destroyAllWindows()"
   ]
  },
  {
   "cell_type": "code",
   "execution_count": 6,
   "metadata": {},
   "outputs": [],
   "source": [
    "# find the matching \n",
    "\n",
    "import cv2 \n",
    "import numpy as np \n",
    "\n",
    "#template = cv2.imread('./img/temp_1.jpg')\n",
    "#template = cv2.imread('./img/temp_2.jpg')\n",
    "template = cv2.imread('./img/temp_3.jpg')\n",
    "sample = cv2.imread('./images/shapestomatch.jpg')\n",
    "\n",
    "template_copy = template.copy()\n",
    "sample_copy = sample.copy()\n",
    "\n",
    "gray_tem = cv2.cvtColor(template,cv2.COLOR_BGR2GRAY)\n",
    "gray_sam = cv2.cvtColor(sample,cv2.COLOR_BGR2GRAY)\n",
    "\n",
    "_,thresh_tem = cv2.threshold(gray_tem,127,255,0)\n",
    "_,thresh_sam = cv2.threshold(gray_sam,127,255,0)\n",
    "\n",
    "_,contours_1,h_1 = cv2.findContours(thresh_tem,cv2.RETR_LIST,cv2.CHAIN_APPROX_NONE)\n",
    "_,contours_2,h_2 = cv2.findContours(thresh_sam,cv2.RETR_LIST,cv2.CHAIN_APPROX_NONE)\n",
    "\n",
    "#sort the contours \n",
    "contours_1 = sorted(contours_1,key = cv2.contourArea,reverse= False)\n",
    "contours_2 = sorted(contours_2,key = cv2.contourArea,reverse= False)\n",
    "\n",
    "contours_1.pop()\n",
    "contours_2.pop()\n",
    "\n",
    "cv2.drawContours(template_copy,contours_1,-1,(0,255,0),3)\n",
    "\n",
    "\n",
    "cv2.imshow('tem',template_copy)\n",
    "cv2.waitKey()\n",
    "\n",
    "match = []\n",
    "\n",
    "for c in contours_2:\n",
    "    match.append((cv2.matchShapes(contours_1[0],c,3,0.0),c))\n",
    "    match.sort()\n",
    "    \n",
    "\n",
    "cv2.drawContours(sample_copy,match[0][1],-1,(0,255,0),3)\n",
    "cv2.imshow('sam',sample_copy)\n",
    "\n",
    "cv2.waitKey()\n",
    "cv2.destroyAllWindows()"
   ]
  },
  {
   "cell_type": "code",
   "execution_count": null,
   "metadata": {},
   "outputs": [],
   "source": []
  },
  {
   "cell_type": "code",
   "execution_count": 5,
   "metadata": {},
   "outputs": [
    {
     "name": "stdout",
     "output_type": "stream",
     "text": [
      "output_shape_number_1.jpg\n",
      "output_shape_number_2.jpg\n",
      "output_shape_number_3.jpg\n"
     ]
    }
   ],
   "source": [
    "import cv2\n",
    "import numpy as np\n",
    "\n",
    "sample = cv2.imread('./images/shapestomatch.jpg')\n",
    "sample_copy = sample.copy()\n",
    "gray_sam = cv2.cvtColor(sample,cv2.COLOR_BGR2GRAY)\n",
    "_,thresh_sam = cv2.threshold(gray_sam,127,255,0)\n",
    "_,contours_2,h_2 = cv2.findContours(thresh_sam,cv2.RETR_LIST,cv2.CHAIN_APPROX_NONE)\n",
    "contours_2 = sorted(contours_2,key = cv2.contourArea,reverse= False)\n",
    "contours_2.pop()\n",
    "\n",
    "for i,c in enumerate(contours_2):\n",
    "    m = cv2.moments(c)\n",
    "    cx = int(m['m10']/m['m00'])\n",
    "    cy = int(m['m01']/m['m00'])\n",
    "    \n",
    "    #cv2.drawContours(sample_copy,[c],-1,(0,255,0),3)\n",
    "    #cv2.putText(sample_copy,str(i),(cx,cy),cv2.FONT_HERSHEY_SIMPLEX,1,(0,0,255),3)\n",
    "    cv2.imshow('sam',sample_copy)\n",
    "    cv2.waitKey()\n",
    "    \n",
    "    (x, y, w, h) = cv2.boundingRect(c) \n",
    "    cropped_contour = sample_copy[y:y + h, x:x + w]\n",
    "    image_name = \"output_shape_number_\" + str(i+1) + \".jpg\"\n",
    "    print (image_name)\n",
    "    cv2.imwrite(image_name, cropped_contour)\n",
    "    \n",
    "\n",
    "cv2.destroyAllWindows()"
   ]
  },
  {
   "cell_type": "code",
   "execution_count": 10,
   "metadata": {},
   "outputs": [],
   "source": [
    "# Line detection \n",
    "import cv2\n",
    "import numpy as np\n",
    "\n",
    "img = cv2.imread(\"./img/chess.jpg \")\n",
    "gray = cv2.cvtColor(img, cv2.COLOR_BGR2GRAY)\n",
    "#_,thresh = cv2.threshold(gray,127,250,0)\n",
    "canny = cv2.Canny(gray,10,70)\n",
    "lines = cv2.HoughLines(canny, 1, np.pi / 180, 150)\n",
    "for values in lines:\n",
    "    for rho, theta in values:\n",
    "        a = np.cos(theta)\n",
    "        b = np.sin(theta)\n",
    "        x0 = a * rho\n",
    "        y0 = b * rho\n",
    "        x1 = int(x0 + 1000 * (-b))\n",
    "        y1 = int(y0 + 1000 * (a))\n",
    "        x2 = int(x0 - 1000 * (-b))\n",
    "        y2 = int(y0 - 1000 * (a))\n",
    "        cv2.line(img, (x1, y1), (x2, y2), (255, 0, 0), 2)\n",
    "\n",
    "cv2.imshow('chess',img )\n",
    "cv2.waitKey()\n",
    "cv2.destroyAllWindows()\n",
    "\n"
   ]
  },
  {
   "cell_type": "code",
   "execution_count": 4,
   "metadata": {},
   "outputs": [],
   "source": [
    "lines"
   ]
  },
  {
   "cell_type": "code",
   "execution_count": 21,
   "metadata": {},
   "outputs": [],
   "source": [
    "# circles detection\n",
    "import cv2\n",
    "import numpy as np\n",
    "\n",
    "img= cv2.imread('./img/testing.jpg')\n",
    "#img= cv2.imread('./images/bottlecaps.jpg')\n",
    "#cv2.imshow('detected circles', img)\n",
    "cv2.waitKey(0)\n",
    "cv2.destroyAllWindows()\n",
    "gray = cv2.cvtColor(img, cv2.COLOR_BGR2GRAY)\n",
    "blur = cv2.medianBlur(gray, 5)\n",
    "edged = cv2.Canny(blur,10,70)\n",
    "_,thresh = cv2.threshold(edged,127,255,cv2.THRESH_BINARY_INV)\n",
    "#blur= cv2.GaussianBlur(thresh, (5,5),0)\n",
    "\n",
    "\n",
    "#show test \n",
    "cv2.imshow('detected circles', thresh)\n",
    "cv2.waitKey(0)\n",
    "cv2.destroyAllWindows()\n",
    "\n",
    "\n",
    "circles = cv2.HoughCircles(thresh ,cv2.HOUGH_GRADIENT,1.2,int(thresh.shape[0])/16)\n",
    "\n",
    "#circles = cv2.HoughCircles(thresh,cv2.HOUGH_GRADIENT,1.5,int(thresh.shape[0])/16,param1=50,param2=30,minRadius=0,maxRadius=0)\n",
    "\n",
    "\n",
    "for i in circles[0]:\n",
    "       # draw the outer circle\n",
    "       cv2.circle(img,(i[0], i[1]), i[2], (255, 0, 0), 2)\n",
    "\n",
    "cv2.imshow('detected circles', img)\n",
    "cv2.waitKey(0)\n",
    "cv2.destroyAllWindows()"
   ]
  },
  {
   "cell_type": "code",
   "execution_count": 15,
   "metadata": {},
   "outputs": [
    {
     "data": {
      "text/plain": [
       "array([[[0., 0., 0.]]], dtype=float32)"
      ]
     },
     "execution_count": 15,
     "metadata": {},
     "output_type": "execute_result"
    }
   ],
   "source": [
    "circles"
   ]
  },
  {
   "cell_type": "code",
   "execution_count": 2,
   "metadata": {},
   "outputs": [
    {
     "data": {
      "text/plain": [
       "62.4375"
      ]
     },
     "execution_count": 2,
     "metadata": {},
     "output_type": "execute_result"
    }
   ],
   "source": [
    "int(thresh.shape[0])/16"
   ]
  },
  {
   "cell_type": "code",
   "execution_count": 3,
   "metadata": {},
   "outputs": [],
   "source": [
    "# blob detection \n",
    "# tim cac nhom pixel co chung dac diem \n",
    "\n",
    "import cv2\n",
    "import numpy as np\n",
    "\n",
    "img = cv2.imread('./images/blobs.jpg',0)\n",
    "\n",
    "detector = cv2.SimpleBlobDetector_create()\n",
    "\n",
    "keypoint = detector.detect(img)\n",
    "\n",
    "blank  = np.zeros((1,1))\n",
    "\n",
    "blobs = cv2.drawKeypoints(img,keypoint,None,(0,0,255))\n",
    "\n",
    "cv2.imshow(\"ori\", blobs)\n",
    "cv2.waitKey(0)\n",
    "\n",
    "img = cv2.imread('./images/blobs.jpg',0)\n",
    "\n",
    "params = cv2.SimpleBlobDetector_Params()\n",
    "\n",
    "\n",
    "cv2.destroyAllWindows()"
   ]
  },
  {
   "cell_type": "code",
   "execution_count": 28,
   "metadata": {},
   "outputs": [
    {
     "data": {
      "text/plain": [
       "(675, 1200)"
      ]
     },
     "execution_count": 28,
     "metadata": {},
     "output_type": "execute_result"
    }
   ],
   "source": [
    "img.shape"
   ]
  },
  {
   "cell_type": "code",
   "execution_count": null,
   "metadata": {},
   "outputs": [],
   "source": []
  }
 ],
 "metadata": {
  "kernelspec": {
   "display_name": "Python 3",
   "language": "python",
   "name": "python3"
  },
  "language_info": {
   "codemirror_mode": {
    "name": "ipython",
    "version": 3
   },
   "file_extension": ".py",
   "mimetype": "text/x-python",
   "name": "python",
   "nbconvert_exporter": "python",
   "pygments_lexer": "ipython3",
   "version": "3.6.5"
  }
 },
 "nbformat": 4,
 "nbformat_minor": 2
}
