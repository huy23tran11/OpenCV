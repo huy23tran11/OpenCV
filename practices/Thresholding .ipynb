{
 "cells": [
  {
   "cell_type": "code",
   "execution_count": 1,
   "metadata": {},
   "outputs": [],
   "source": [
    "import cv2\n",
    "import numpy as np"
   ]
  },
  {
   "cell_type": "code",
   "execution_count": 14,
   "metadata": {},
   "outputs": [],
   "source": [
    "img = cv2.imread('./img/car.jpeg',0)\n",
    "cv2.imshow('hi', img)\n",
    "cv2.waitKey()\n",
    "cv2.destroyAllWindows()\n",
    "ret, img_1= cv2.threshold(img,128,255,cv2.THRESH_BINARY_INV)"
   ]
  },
  {
   "cell_type": "code",
   "execution_count": 15,
   "metadata": {},
   "outputs": [
    {
     "data": {
      "text/plain": [
       "128.0"
      ]
     },
     "execution_count": 15,
     "metadata": {},
     "output_type": "execute_result"
    }
   ],
   "source": [
    "ret"
   ]
  },
  {
   "cell_type": "code",
   "execution_count": 16,
   "metadata": {},
   "outputs": [],
   "source": [
    "cv2.imshow('thresholding',img_1)\n",
    "cv2.waitKey()\n",
    "cv2.destroyAllWindows()"
   ]
  },
  {
   "cell_type": "code",
   "execution_count": 4,
   "metadata": {},
   "outputs": [
    {
     "data": {
      "text/plain": [
       "array([[ 83,  87,  91, ...,  22,  27,  18],\n",
       "       [ 58,  61,  66, ...,  29,  38,  36],\n",
       "       [ 42,  43,  44, ...,  32,  47,  51],\n",
       "       ...,\n",
       "       [125, 122, 125, ..., 122, 136, 140],\n",
       "       [129, 129, 131, ..., 125, 129, 136],\n",
       "       [145, 139, 133, ..., 134, 117, 115]], dtype=uint8)"
      ]
     },
     "execution_count": 4,
     "metadata": {},
     "output_type": "execute_result"
    }
   ],
   "source": [
    "img"
   ]
  },
  {
   "cell_type": "code",
   "execution_count": 17,
   "metadata": {},
   "outputs": [
    {
     "data": {
      "text/plain": [
       "array([[ 83,  87,  91, ...,  22,  27,  18],\n",
       "       [ 58,  61,  66, ...,  29,  38,  36],\n",
       "       [ 42,  43,  44, ...,  32,  47,  51],\n",
       "       ...,\n",
       "       [125, 122, 125, ..., 122, 136, 140],\n",
       "       [129, 129, 131, ..., 125, 129, 136],\n",
       "       [145, 139, 133, ..., 134, 117, 115]], dtype=uint8)"
      ]
     },
     "execution_count": 17,
     "metadata": {},
     "output_type": "execute_result"
    }
   ],
   "source": [
    "img "
   ]
  },
  {
   "cell_type": "code",
   "execution_count": 22,
   "metadata": {},
   "outputs": [],
   "source": [
    "cv2.imshow('img', img)\n",
    "cv2.waitKey(0)\n",
    "cv2.destroyAllWindows()"
   ]
  },
  {
   "cell_type": "code",
   "execution_count": 24,
   "metadata": {},
   "outputs": [],
   "source": [
    "kernel = np.ones((5,5),np.uint8)\n",
    "erosion=cv2.erode(img,kernel,iterations=1)\n",
    "cv2.imshow('hi',erosion)\n",
    "cv2.waitKey()\n",
    "cv2.destroyAllWindows()"
   ]
  },
  {
   "cell_type": "code",
   "execution_count": 35,
   "metadata": {},
   "outputs": [],
   "source": [
    "black_src = np.ones((500,500),np.uint8)\n",
    "cv2.line(black_src,(0,0),(500,500),(255,127,0),5)\n",
    "cv2.imshow('line',black_src)\n",
    "cv2.waitKey()\n",
    "cv2.destroyAllWindows()"
   ]
  },
  {
   "cell_type": "code",
   "execution_count": 39,
   "metadata": {},
   "outputs": [],
   "source": [
    "black_src = np.ones((500,500),np.uint8)\n",
    "cv2.line(black_src,(0,0),(500,500),(255,127,0),5)\n",
    "cv2.imshow('line',black_src)\n",
    "\n",
    "\n",
    "kernel = np.ones((5,5),np.uint8)\n",
    "erosion = cv2.erode(black_src,kernel,iterations =1 )\n",
    "cv2.imshow('hi',erosion)\n",
    "\n",
    "dilation = cv2.dilate(black_src, kernel, iterations =1 )\n",
    "cv2.imshow('hi',dilation)\n",
    "\n",
    "cv2.waitKey()\n",
    "cv2.destroyAllWindows()\n"
   ]
  },
  {
   "cell_type": "code",
   "execution_count": 49,
   "metadata": {},
   "outputs": [],
   "source": [
    "#eged detection \n",
    "#canny => best\n",
    "img = cv2.imread('./img/CV.jpg',0)\n",
    "canny = cv2.Canny(img,60,120)\n",
    "cv2.imshow('Canny', canny)\n",
    "cv2.waitKey(0)\n",
    "\n",
    "cv2.destroyAllWindows()"
   ]
  },
  {
   "cell_type": "code",
   "execution_count": null,
   "metadata": {},
   "outputs": [],
   "source": []
  }
 ],
 "metadata": {
  "kernelspec": {
   "display_name": "Python 3",
   "language": "python",
   "name": "python3"
  },
  "language_info": {
   "codemirror_mode": {
    "name": "ipython",
    "version": 3
   },
   "file_extension": ".py",
   "mimetype": "text/x-python",
   "name": "python",
   "nbconvert_exporter": "python",
   "pygments_lexer": "ipython3",
   "version": "3.6.5"
  }
 },
 "nbformat": 4,
 "nbformat_minor": 2
}
